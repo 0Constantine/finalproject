{
 "cells": [
  {
   "cell_type": "code",
   "execution_count": 13,
   "id": "36af46d6",
   "metadata": {},
   "outputs": [
    {
     "data": {
      "image/png": "[encoded data removed]",
      "text/plain": [
       "<Figure size 432x288 with 1 Axes>"
      ]
     },
     "metadata": {
      "needs_background": "light"
     },
     "output_type": "display_data"
    }
   ],
   "source": [
    "#assignment 3 _ 단진자 운동의 역학적 에너지\n",
    "#(a)초기 조건이 theta(0) = 0, d theta(0) = 1일 때 단진자의 진폭 alpha를 구하시오.\n",
    "#(b) 진폭이 매우 작을 때 단진자의 주기는 T = 2phi이다. 단진자의 주기가 4배가 되는 진폭을 유효숫자 3자리까지 구하시오\n",
    "#(c) 단진자 운동의 일반해는 thetha(t) = 2 arcsin[sin(alpha/2) sn(t;k = sin(alpha/2))] 이다. 진폭에 따른 단진자의 운동의 특성을\n",
    "#파악하기 위해 x축 : t/K(k = sin(alpha/2)), y축 : thetha(t) / alpha, alpha = 0.01phi, 0.1 phi,0.5phi,0.99phi,0.999phi\n",
    "#일때 위의 그래프를 그리시오.\n",
    "import numpy\n",
    "import numpy as np\n",
    "import matplotlib.pyplot as plt\n",
    "from math import sin, cos\n",
    "# from sympy import elliptic_k\n",
    "\n",
    "from scipy.special import ellipj\n",
    "from scipy.special import ellipk\n",
    "\n",
    "\n",
    "def ellip_k(k):\n",
    "    #K(k) = F(alpha, k^2)\n",
    "    return ellipk(k)\n",
    "\n",
    "\n",
    "def ellip(t, k):  #타원 적분 중에서 SN 만뽑아놓기alpha값만 일단 넣어주기\n",
    "\n",
    "    return ellipj(t, k)[0]\n",
    "\n",
    "\n",
    "def theta(t, alpha, sc_sn):\n",
    "    #ellip 에서 인자로 theta 받을 예정\n",
    "    y = 2 * np.arcsin((np.sin(alpha / 2.) * sc_sn))\n",
    "\n",
    "    #sc_sn = ellip()\n",
    "    return y\n",
    "\n",
    "\n",
    "alpha = np.array([0.1 * np.pi, 0.5 * np.pi, 0.99 * np.pi, 0.999 * np.pi])\n",
    "\n",
    "k = np.array(np.sin(alpha / 2))  #t랑 크기가 같아야함\n",
    "\n",
    "t = np.linspace(-10, 10, 100)\n",
    "\n",
    "y_float_final = theta(t, alpha[0], ellip(t, k[0]))\n",
    "x = t / ellipk(k[0])\n",
    "x2 = t / ellipk(k[1])\n",
    "x3 = t / ellipk(k[2])\n",
    "x4 = t / ellipk(k[3])\n",
    "for i in range(4):\n",
    "  x = t / ellipk(k[i])\n",
    "  y_float =theta(t, alpha[i], ellip(t,k[i]))\n",
    "  plt.plot(x, y_float, color='c', linestyle='dashed')"
   ]
  },
  {
   "cell_type": "code",
   "execution_count": 4,
   "id": "b925cd35",
   "metadata": {},
   "outputs": [
    {
     "name": "stdout",
     "output_type": "stream",
     "text": [
      "[4.         3.99989999 3.99959997 ... 3.05133307 3.06829659 3.08515327]\n"
     ]
    }
   ],
   "source": [
    "from scipy.integrate import solve_ivp\n",
    "from vpython import *\n",
    "import numpy as np\n",
    "import matplotlib.pyplot as plt\n",
    "import vpython as vp\n",
    "\n",
    "\n",
    "# Define the equations of motion\n",
    "def triatomic_oscillator(t, y):\n",
    "    u1, u2, u3, v1, v2, v3 = y\n",
    "\n",
    "    k = 1.0  # Spring constant\n",
    "    m1 = 0.25  # Mass 1\n",
    "    m2 = 0.4  # Mass 2\n",
    "    m3 = 0.25  # Mass 3\n",
    "\n",
    "    du1dt = v1\n",
    "    du2dt = v2\n",
    "    du3dt = v3\n",
    "\n",
    "    dv1dt = -(k / m1) * (u1 - u2)\n",
    "    dv2dt = -(k / m2) * (u2 - u1) - (k / m2) * (u2 - u3)\n",
    "    dv3dt = -(k / m3) * (u3 - u2)\n",
    "\n",
    "    return [du1dt, du2dt, du3dt, dv1dt, dv2dt, dv3dt] #1차원배열만취급해줌\n",
    "\n",
    "# Set initial conditions\n",
    "initial_conditions = [0., 2., 4., 0.0, 0.0, 0.0] #??ㅋㅋ;\n",
    "\n",
    "# Integrate the equations of motion\n",
    "solution = solve_ivp(triatomic_oscillator, [0, 100], initial_conditions, t_eval=np.linspace(0, 100, 20000))\n",
    "\n",
    "# Extract solution data\n",
    "t = solution.t\n",
    "u1, u2, u3, v1, v2, v3 = solution.y\n",
    "\n"
   ]
  },
  {
   "cell_type": "code",
   "execution_count": 6,
   "id": "548b6bae",
   "metadata": {},
   "outputs": [
    {
     "data": {
      "text/plain": [
       "20000"
      ]
     },
     "execution_count": 6,
     "metadata": {},
     "output_type": "execute_result"
    }
   ],
   "source": [
    "len(t)"
   ]
  },
  {
   "cell_type": "code",
   "execution_count": null,
   "id": "0a2761fa",
   "metadata": {},
   "outputs": [],
   "source": []
  }
 ],
 "metadata": {
  "kernelspec": {
   "display_name": "constantine",
   "language": "python",
   "name": "py38"
  },
  "language_info": {
   "codemirror_mode": {
    "name": "ipython",
    "version": 3
   },
   "file_extension": ".py",
   "mimetype": "text/x-python",
   "name": "python",
   "nbconvert_exporter": "python",
   "pygments_lexer": "ipython3",
   "version": "3.8.16"
  },
  "vp": {
   "vp_config_version": "1.0.0",
   "vp_menu_width": 273,
   "vp_note_display": false,
   "vp_note_width": 0,
   "vp_position": {
    "width": 278
   },
   "vp_section_display": false,
   "vp_signature": "VisualPython"
  }
 },
 "nbformat": 4,
 "nbformat_minor": 5
}
