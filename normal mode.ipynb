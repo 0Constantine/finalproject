{
 "cells": [
  {
   "cell_type": "code",
   "execution_count": 1,
   "metadata": {},
   "outputs": [
    {
     "ename": "LinAlgError",
     "evalue": "Singular matrix",
     "output_type": "error",
     "traceback": [
      "\u001b[0;31m---------------------------------------------------------------------------\u001b[0m",
      "\u001b[0;31mLinAlgError\u001b[0m                               Traceback (most recent call last)",
      "Cell \u001b[0;32mIn[1], line 38\u001b[0m\n\u001b[1;32m     34\u001b[0m z_a \u001b[39m=\u001b[39m np\u001b[39m.\u001b[39marray([[vector[\u001b[39m2\u001b[39m][\u001b[39m0\u001b[39m]\u001b[39m*\u001b[39mnp\u001b[39m.\u001b[39msin(omega1\u001b[39m*\u001b[39mt), vector[\u001b[39m2\u001b[39m][\u001b[39m1\u001b[39m]\u001b[39m*\u001b[39mnp\u001b[39m.\u001b[39msin(omega2\u001b[39m*\u001b[39mt), vector[\u001b[39m2\u001b[39m][\u001b[39m2\u001b[39m]\u001b[39m*\u001b[39mnp\u001b[39m.\u001b[39msin(omega3\u001b[39m*\u001b[39mt)],\n\u001b[1;32m     35\u001b[0m                 [vector[\u001b[39m2\u001b[39m][\u001b[39m0\u001b[39m]\u001b[39m*\u001b[39momega1\u001b[39m*\u001b[39mnp\u001b[39m.\u001b[39mcos(omega1\u001b[39m*\u001b[39mt), vector[\u001b[39m2\u001b[39m][\u001b[39m1\u001b[39m]\u001b[39m*\u001b[39momega2\u001b[39m*\u001b[39mnp\u001b[39m.\u001b[39mcos(omega2\u001b[39m*\u001b[39mt), vector[\u001b[39m2\u001b[39m][\u001b[39m2\u001b[39m]\u001b[39m*\u001b[39momega3\u001b[39m*\u001b[39mnp\u001b[39m.\u001b[39mcos(omega3\u001b[39m*\u001b[39mt)],\n\u001b[1;32m     36\u001b[0m                 [\u001b[39m0\u001b[39m, \u001b[39m0\u001b[39m, \u001b[39m0\u001b[39m]])\n\u001b[1;32m     37\u001b[0m z_b \u001b[39m=\u001b[39m np\u001b[39m.\u001b[39marray([\u001b[39m0\u001b[39m, \u001b[39m1\u001b[39m, \u001b[39m0\u001b[39m])\n\u001b[0;32m---> 38\u001b[0m solx \u001b[39m=\u001b[39m LA\u001b[39m.\u001b[39;49msolve(x_a, x_b)\n\u001b[1;32m     39\u001b[0m soly \u001b[39m=\u001b[39m LA\u001b[39m.\u001b[39msolve(y_a, y_b)\n\u001b[1;32m     40\u001b[0m solz \u001b[39m=\u001b[39m LA\u001b[39m.\u001b[39msolve(z_a, z_b)\n",
      "File \u001b[0;32m<__array_function__ internals>:200\u001b[0m, in \u001b[0;36msolve\u001b[0;34m(*args, **kwargs)\u001b[0m\n",
      "File \u001b[0;32m~/opt/anaconda3/envs/py38/lib/python3.8/site-packages/numpy/linalg/linalg.py:386\u001b[0m, in \u001b[0;36msolve\u001b[0;34m(a, b)\u001b[0m\n\u001b[1;32m    384\u001b[0m signature \u001b[39m=\u001b[39m \u001b[39m'\u001b[39m\u001b[39mDD->D\u001b[39m\u001b[39m'\u001b[39m \u001b[39mif\u001b[39;00m isComplexType(t) \u001b[39melse\u001b[39;00m \u001b[39m'\u001b[39m\u001b[39mdd->d\u001b[39m\u001b[39m'\u001b[39m\n\u001b[1;32m    385\u001b[0m extobj \u001b[39m=\u001b[39m get_linalg_error_extobj(_raise_linalgerror_singular)\n\u001b[0;32m--> 386\u001b[0m r \u001b[39m=\u001b[39m gufunc(a, b, signature\u001b[39m=\u001b[39;49msignature, extobj\u001b[39m=\u001b[39;49mextobj)\n\u001b[1;32m    388\u001b[0m \u001b[39mreturn\u001b[39;00m wrap(r\u001b[39m.\u001b[39mastype(result_t, copy\u001b[39m=\u001b[39m\u001b[39mFalse\u001b[39;00m))\n",
      "File \u001b[0;32m~/opt/anaconda3/envs/py38/lib/python3.8/site-packages/numpy/linalg/linalg.py:89\u001b[0m, in \u001b[0;36m_raise_linalgerror_singular\u001b[0;34m(err, flag)\u001b[0m\n\u001b[1;32m     88\u001b[0m \u001b[39mdef\u001b[39;00m \u001b[39m_raise_linalgerror_singular\u001b[39m(err, flag):\n\u001b[0;32m---> 89\u001b[0m     \u001b[39mraise\u001b[39;00m LinAlgError(\u001b[39m\"\u001b[39m\u001b[39mSingular matrix\u001b[39m\u001b[39m\"\u001b[39m)\n",
      "\u001b[0;31mLinAlgError\u001b[0m: Singular matrix"
     ]
    }
   ],
   "source": [
    "#same mass of all object\n",
    "import numpy as np\n",
    "from numpy import linalg as LA\n",
    "#m1x\" = -k1x+k2(y-x)\n",
    "#m2y\" = -k2(y-x)+k3(z-y)\n",
    "#m3z\" = -k4z+k3(y-z)\n",
    "#x(t) = x_0*exp(iwt) ; y(t) = y_0*exp(iwt) ; z(t) = z_0*exp(iwt)\n",
    "k1 = 1 ; k2 = 2 ; k3 = 2 ; k4 = 1\n",
    "m1 = 1 ; m2 = 1 ; m3 = 1\n",
    "#-m1w^2x_0= -k1x+k2(y-x)\n",
    "#-m2w^2y_0= -k2(y-x)+k3(z-y)\n",
    "#-m3w^2z_0 = -k4z+k3(y-z)\n",
    "F = np.array([[k1+k2, -k2, 0 ], [-k2, k2+k3, -k3], [0, -k3, k3+k4]])\n",
    "Lambda, vector = LA.eig(F)\n",
    "omega1 = np.sqrt(k1*Lambda[0]/m1)\n",
    "omega2 = np.sqrt(k1*Lambda[1]/m1)\n",
    "omega3 = np.sqrt(k1*Lambda[2]/m1)\n",
    "#x(t) = a_x*vec*sin(w1t) + b_x*vec*sin(w2t) + c_x*vec*sin(w3t)\n",
    "#y(t) = a_y*vec*sin(w1t) + b_y*vec*sin(w2t) + c_y*vec*sin(w3t)\n",
    "#z(t) = a_z*vec*sin(w1t) + b_z*vec*sin(w2t) + c_z*vec*sin(w3t)\n",
    "#x'(t) = a_x*w1*vec*cos(w1t) + b_x*w2*vec*cos(w2t) + c_x*w3*vec*cos(w3t)\n",
    "#y'(t) = a_y*w1*vec*cos(w1t) + b_y*w2*vec*cos(w2t) + c_y*w3*vec*cos(w3t)\n",
    "#z'(t) = a_z*w1*vec*cos(w1t) + b_z*w2*vec*cos(w2t) + c_z*w3*vec*cos(w3t)\n",
    "#initial ; x(0) = y(0) = z(0) = 0 ; x'(0) = z'(0) = 1, y'(0) = 0\n",
    "t=0\n",
    "x_a = np.array([[vector[0][0]*np.sin(omega1*t), vector[0][1]*np.sin(omega2*t), vector[0][2]*np.sin(omega3*t)],\n",
    "                [vector[0][0]*omega1*np.cos(omega1*t), vector[0][1]*omega2*np.cos(omega2*t), vector[0][2]*omega3*np.cos(omega3*t)],\n",
    "                [0, 0, 0]])\n",
    "x_b = np.array([0, 1, 0])\n",
    "y_a = np.array([[vector[1][0]*np.sin(omega1*t), vector[1][1]*np.sin(omega2*t), vector[1][2]*np.sin(omega3*t)],\n",
    "                [vector[1][0]*omega1*np.cos(omega1*t), vector[1][1]*omega2*np.cos(omega2*t), vector[1][2]*omega3*np.cos(omega3*t)],\n",
    "                [0, 0, 0]])\n",
    "y_b = np.array([0, 0, 0])\n",
    "z_a = np.array([[vector[2][0]*np.sin(omega1*t), vector[2][1]*np.sin(omega2*t), vector[2][2]*np.sin(omega3*t)],\n",
    "                [vector[2][0]*omega1*np.cos(omega1*t), vector[2][1]*omega2*np.cos(omega2*t), vector[2][2]*omega3*np.cos(omega3*t)],\n",
    "                [0, 0, 0]])\n",
    "z_b = np.array([0, 1, 0])\n",
    "solx = LA.solve(x_a, x_b)\n",
    "soly = LA.solve(y_a, y_b)\n",
    "solz = LA.solve(z_a, z_b)\n",
    "print(solx, soly, solz)\n",
    "\n"
   ]
  }
 ],
 "metadata": {
  "kernelspec": {
   "display_name": "constantine",
   "language": "python",
   "name": "py38"
  },
  "language_info": {
   "codemirror_mode": {
    "name": "ipython",
    "version": 3
   },
   "file_extension": ".py",
   "mimetype": "text/x-python",
   "name": "python",
   "nbconvert_exporter": "python",
   "pygments_lexer": "ipython3",
   "version": "3.8.16"
  },
  "orig_nbformat": 4
 },
 "nbformat": 4,
 "nbformat_minor": 2
}
